{
 "cells": [
  {
   "cell_type": "code",
   "execution_count": null,
   "id": "6c947d85-07ab-48c4-8607-01cedc8a5726",
   "metadata": {},
   "outputs": [],
   "source": [
    "import datetime\n",
    "import math\n",
    "import pathlib\n",
    "\n",
    "import folium\n",
    "import geopandas\n",
    "import joblib\n",
    "import pygeoops\n",
    "import shapely\n",
    "import urllib.parse\n",
    "import xyzservices"
   ]
  },
  {
   "cell_type": "code",
   "execution_count": null,
   "id": "18e2f57d-bf7d-4022-a8d2-2e2a0fc02f9c",
   "metadata": {},
   "outputs": [],
   "source": [
    "CACHE_DIRECTORY = pathlib.Path() / \".cache\"\n",
    "CACHE_TIME = datetime.timedelta(weeks=3)\n",
    "\n",
    "CACHE_DIRECTORY.mkdir(exist_ok=True)\n",
    "memory = joblib.Memory(CACHE_DIRECTORY, verbose=0)\n",
    "memory.reduce_size(age_limit=CACHE_TIME)"
   ]
  },
  {
   "cell_type": "code",
   "execution_count": null,
   "id": "0e9f5c16-8774-42bd-8262-83270d6480f9",
   "metadata": {},
   "outputs": [],
   "source": [
    "MINDESTBREITE = 1.5  # meter\n",
    "MINDESTFLAECHE = 20  # quadratmeter\n",
    "\n",
    "CRS = \"EPSG:31256\"\n",
    "\n",
    "WFS_BASE_URL = (\n",
    "    \"https://data.wien.gv.at/daten/geo\"\n",
    "    \"?service=WFS\"\n",
    "    \"&version=2.0.0\"\n",
    "    \"&request=GetFeature\"\n",
    "    f\"&srsName={CRS}\"\n",
    "    \"&typeNames={:s}\"\n",
    ")\n",
    "\n",
    "PARKFLAECHEN_AUF_GEHSTEIG_WFS_URL = (\n",
    "    WFS_BASE_URL.format(\"ogdwien:SISBELAGOGD\")\n",
    "    + \"&\"\n",
    "    + urllib.parse.urlencode({\"cql_filter\": \"TYPE_TXT='Parkfläche Gehsteig'\"})\n",
    ")\n",
    "GEHSTEIG_WFS_URL = (\n",
    "    WFS_BASE_URL.format(\"ogdwien:SISBELAGOGD\")\n",
    "    + \"&\"\n",
    "    + urllib.parse.urlencode({\"cql_filter\": \"TYPE_TXT='Gehsteig'\"})\n",
    ")\n",
    "ORTHOFOTO_TILE_URL = (\n",
    "    \"https://mapsneu.wien.gv.at/wmts/lb/farbe/google3857/{z}/{y}/{x}.jpeg\"\n",
    ")\n",
    "xyzservices.providers.WienOGD = xyzservices.Bunch(\n",
    "    Orthofoto=xyzservices.TileProvider(\n",
    "        name=\"Orthofoto Wien\",\n",
    "        url=ORTHOFOTO_TILE_URL,\n",
    "        attribution=\"Datenquelle: Stadt Wien – data.wien.gv.at\",\n",
    "    )\n",
    ")"
   ]
  },
  {
   "cell_type": "code",
   "execution_count": null,
   "id": "5191cb49-8337-4da8-8639-98e074979334",
   "metadata": {},
   "outputs": [],
   "source": [
    "MAX_DISTANCE = 0.5"
   ]
  },
  {
   "cell_type": "code",
   "execution_count": null,
   "id": "404ccf03-2797-4fb0-ab8d-d9b0a3d5df87",
   "metadata": {},
   "outputs": [],
   "source": [
    "GEHSTEIGE_FILL_COLOUR = \"#83ba7e\"\n",
    "GEHSTEIGE_STROKE_COLOUR = \"#83ba7e\"\n",
    "PARKPLAETZE_FILL_COLOUR = \"#73a0dc\"\n",
    "PARKPLAETZE_STROKE_COLOUR = \"#73a0dc\""
   ]
  },
  {
   "cell_type": "code",
   "execution_count": null,
   "id": "9aa6fdf9-9c20-49a0-bb9b-cb2831fa044b",
   "metadata": {},
   "outputs": [],
   "source": [
    "@memory.cache\n",
    "def cached_geopandas_read_file(*args, **kwargs):\n",
    "    return geopandas.read_file(*args, **kwargs)"
   ]
  },
  {
   "cell_type": "code",
   "execution_count": null,
   "id": "3b8ab2a5-392a-45bb-9443-4489bda17bda",
   "metadata": {
    "scrolled": true
   },
   "outputs": [],
   "source": [
    "parkflaechen = cached_geopandas_read_file(PARKFLAECHEN_AUF_GEHSTEIG_WFS_URL)\n",
    "parkflaechen.crs = CRS\n",
    "parkflaechen = parkflaechen.set_index(\"gml_id\")\n",
    "parkflaechen"
   ]
  },
  {
   "cell_type": "code",
   "execution_count": null,
   "id": "35b6b563-b9c6-44b3-82d9-5724f04fbc74",
   "metadata": {},
   "outputs": [],
   "source": [
    "gehsteig = cached_geopandas_read_file(GEHSTEIG_WFS_URL)\n",
    "gehsteig.crs = CRS\n",
    "gehsteig = gehsteig.set_index(\"gml_id\")\n",
    "gehsteig"
   ]
  },
  {
   "cell_type": "code",
   "execution_count": null,
   "id": "dab98146-6333-4f1b-b34c-b9f5e7ca2e90",
   "metadata": {},
   "outputs": [],
   "source": [
    "gehsteig_neben_parkflaeche = gehsteig.sjoin_nearest(\n",
    "    parkflaechen,\n",
    "    max_distance=MAX_DISTANCE,\n",
    "    lsuffix=\"gehsteig\",\n",
    "    rsuffix=\"parkflaeche\",\n",
    "    # distance_col=\"Abstand Gehsteig/Parkfläche\",\n",
    ")[[\"geometry\"]].dissolve().explode().reset_index(drop=True)\n",
    "gehsteig_neben_parkflaeche"
   ]
  },
  {
   "cell_type": "code",
   "execution_count": null,
   "id": "de9e5828-78cd-4b8f-bd74-58c0bd2df7d2",
   "metadata": {},
   "outputs": [],
   "source": [
    "gehsteig_neben_parkflaeche[\"centerline\"] = pygeoops.centerline(gehsteig_neben_parkflaeche.geometry)"
   ]
  },
  {
   "cell_type": "code",
   "execution_count": null,
   "id": "ec79c041-7d09-4a2a-8328-57a0738fd22b",
   "metadata": {},
   "outputs": [],
   "source": [
    "def durchschnittsbreite(polygon):\n",
    "    # Die durchschnittliche Breite eines Polygons berechnen/schätzen\n",
    "    #\n",
    "    # Der Algorithmus ist an den (hier)[https://web.archive.org/web/20230329134916/https://geoobserver.wordpress.com/2023/03/27/qgis-tipp-flussbreiten-ermitteln-aber-wie/]\n",
    "    # besprochenen Ansatz zur Flußbreitenbeschriftung\n",
    "    # angelehnt.\n",
    "    #\n",
    "    # Wir konstruieren zunächst Linestrings die an 10 gleichmäßig verteilten\n",
    "    # Punkten normal auf die Centerline des Polygons stehen, clippen diese Linien\n",
    "    # dann mit dem Polygon, und berechnen deren Länge (und schließlich den\n",
    "    # Durchschnitt dieser Längen\n",
    "    \n",
    "    MAX_LAENGE_NORMALE = 30  # wenn gehsteige breiter als 30 meter sind sind sie uns eh wurscht\n",
    "    \n",
    "    zwoelf_punkte = [\n",
    "        shapely.line_interpolate_point(\n",
    "            pygeoops.centerline(polygon),\n",
    "            distance=(i * 1.0/11.0),\n",
    "            normalized=True,\n",
    "        ) for i in range(12)\n",
    "    ]\n",
    "\n",
    "    normale = []\n",
    "    for (previous_point, point, next_point) in zip(\n",
    "        zwoelf_punkte[:-2], zwoelf_punkte[1:-1], zwoelf_punkte[2:]\n",
    "    ):\n",
    "        dx = next_point.x - previous_point.x\n",
    "        dy = next_point.y - previous_point.y\n",
    "        laenge = math.sqrt(dx**2 + dy**2)\n",
    "        dx /= laenge\n",
    "        dy /= laenge\n",
    "        normale.append(\n",
    "            shapely.intersection(\n",
    "                shapely.LineString(\n",
    "                    [\n",
    "                        [point.x - (dx * laenge), point.y + (dy * laenge)],\n",
    "                        [point.x + (dx * laenge), point.y - (dy * laenge)],\n",
    "                    ],\n",
    "                ),\n",
    "                polygon\n",
    "            )\n",
    "        )\n",
    "\n",
    "    normale = [shapely.intersection(n, polygon) for n in normale]\n",
    "    laengen = [shapely.length(n) for n in normale]\n",
    "    average_length = sum(laengen) / len(laengen)\n",
    "    \n",
    "    return average_length    "
   ]
  },
  {
   "cell_type": "code",
   "execution_count": null,
   "id": "f6bfa4c3-df7c-4e64-b997-5fa6a3190c96",
   "metadata": {},
   "outputs": [],
   "source": [
    "gehsteig_neben_parkflaeche[\"breite\"] = gehsteig_neben_parkflaeche.geometry.apply(durchschnittsbreite)"
   ]
  },
  {
   "cell_type": "code",
   "execution_count": null,
   "id": "4542e15b-e0a6-4e27-8679-5cf85525d5a7",
   "metadata": {},
   "outputs": [],
   "source": [
    "gehsteig_neben_parkflaeche[\"breite\"].describe()"
   ]
  },
  {
   "cell_type": "code",
   "execution_count": null,
   "id": "6ce36d2c-6e25-4b83-b2ce-ebf2698b40d0",
   "metadata": {},
   "outputs": [],
   "source": [
    "gehsteig_neben_parkflaeche = gehsteig_neben_parkflaeche[(gehsteig_neben_parkflaeche.breite < MINDESTBREITE) & (gehsteig_neben_parkflaeche.area > MINDESTFLAECHE)][[\"geometry\", \"breite\"]]\n",
    "gehsteig_neben_parkflaeche"
   ]
  },
  {
   "cell_type": "code",
   "execution_count": null,
   "id": "37092d90-195f-4a0d-8d97-4a73c341312f",
   "metadata": {},
   "outputs": [],
   "source": [
    "gehsteig_neben_parkflaeche.to_file(\"/tmp/gehsteig_neben_parkflaeche.gpkg\")\n",
    "parkflaechen.to_file(\"/tmp/parkflaechen.gpkg\")"
   ]
  },
  {
   "cell_type": "code",
   "execution_count": null,
   "id": "1a2705c9-cd86-43c2-85fa-59769aad4934",
   "metadata": {},
   "outputs": [],
   "source": [
    "tile_layer = folium.raster_layers.TileLayer(xyzservices.providers.WienOGD.Orthofoto, opacity=0.1)\n",
    "\n",
    "uebersichtskarte = gehsteig_neben_parkflaeche.explore(\n",
    "    style_kwds={\n",
    "        \"fillColor\": GEHSTEIGE_FILL_COLOUR,\n",
    "        \"fillOpacity\": 0.9,\n",
    "        \"color\": GEHSTEIGE_STROKE_COLOUR,\n",
    "        \"weight\": 0.1,\n",
    "    },\n",
    "    map_kwds={\n",
    "        \"center\": {\"lat\": 48.2515, \"lng\": 16.4549},\n",
    "    },\n",
    "    zoom_start=18,\n",
    "    max_zoom=32,\n",
    "    tiles=tile_layer\n",
    "    #tiles=xyzservices.providers.WienOGD.Orthofoto,\n",
    ")\n",
    "uebersichtskarte = parkflaechen.explore(\n",
    "    m=uebersichtskarte,\n",
    "    style_kwds={\n",
    "        \"fillColor\": PARKPLAETZE_FILL_COLOUR,\n",
    "        \"fillOpacity\": 0.9,\n",
    "        \"color\": PARKPLAETZE_STROKE_COLOUR,\n",
    "        \"weight\": 0.1,\n",
    "    },\n",
    ")\n",
    "uebersichtskarte"
   ]
  }
 ],
 "metadata": {
  "kernelspec": {
   "display_name": "Python 3 (ipykernel)",
   "language": "python",
   "name": "python3"
  },
  "language_info": {
   "codemirror_mode": {
    "name": "ipython",
    "version": 3
   },
   "file_extension": ".py",
   "mimetype": "text/x-python",
   "name": "python",
   "nbconvert_exporter": "python",
   "pygments_lexer": "ipython3",
   "version": "3.12.7"
  }
 },
 "nbformat": 4,
 "nbformat_minor": 5
}
