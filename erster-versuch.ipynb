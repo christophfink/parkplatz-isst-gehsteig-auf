{
 "cells": [
  {
   "cell_type": "code",
   "execution_count": null,
   "id": "6c947d85-07ab-48c4-8607-01cedc8a5726",
   "metadata": {},
   "outputs": [],
   "source": [
    "import datetime\n",
    "import geopandas\n",
    "import joblib\n",
    "import pathlib\n",
    "import xyzservices"
   ]
  },
  {
   "cell_type": "code",
   "execution_count": null,
   "id": "18e2f57d-bf7d-4022-a8d2-2e2a0fc02f9c",
   "metadata": {},
   "outputs": [],
   "source": [
    "CACHE_DIRECTORY = pathlib.Path() / \".cache\"\n",
    "CACHE_TIME = datetime.timedelta(weeks=3)\n",
    "\n",
    "CACHE_DIRECTORY.mkdir(exist_ok=True)\n",
    "memory = joblib.Memory(CACHE_DIRECTORY, verbose=0)\n",
    "memory.reduce_size(age_limit=CACHE_TIME)"
   ]
  },
  {
   "cell_type": "code",
   "execution_count": null,
   "id": "0e9f5c16-8774-42bd-8262-83270d6480f9",
   "metadata": {},
   "outputs": [],
   "source": [
    "WFS_BASE_URL = (\n",
    "    \"https://data.wien.gv.at/daten/geo\"\n",
    "    \"?service=WFS\"\n",
    "    \"&version=2.0.0\"\n",
    "    \"&request=GetFeature\"\n",
    "    \"&srsName=EPSG:31256\"\n",
    "    \"&typeNames={:s}\"\n",
    ")\n",
    "\n",
    "FMZK_VERKEHR1_WFS_URL = WFS_BASE_URL.format(\"ogdwien:FMZKVERKEHR1OGD\")\n",
    "FMZK_VERKEHR2_WFS_URL = WFS_BASE_URL.format(\"ogdwien:FMZKVERKEHR2OGD\")\n",
    "ORTHOFOTO_TILE_URL = \"https://mapsneu.wien.gv.at/wmts/lb/farbe/google3857/{z}/{y}/{x}.jpeg\""
   ]
  },
  {
   "cell_type": "code",
   "execution_count": null,
   "id": "404ccf03-2797-4fb0-ab8d-d9b0a3d5df87",
   "metadata": {},
   "outputs": [],
   "source": [
    "GEHSTEIGE_FILL_COLOUR = \"#83ba7e\"\n",
    "GEHSTEIGE_STROKE_COLOUR = \"#83ba7e\"\n",
    "PARKPLAETZE_FILL_COLOUR = \"#73a0dc\"\n",
    "PARKPLAETZE_STROKE_COLOUR = \"#73a0dc\""
   ]
  },
  {
   "cell_type": "code",
   "execution_count": null,
   "id": "9aa6fdf9-9c20-49a0-bb9b-cb2831fa044b",
   "metadata": {},
   "outputs": [],
   "source": [
    "@memory.cache\n",
    "def cached_geopandas_read_file(*args, **kwargs):\n",
    "    return geopandas.read_file(*args, **kwargs)"
   ]
  },
  {
   "cell_type": "code",
   "execution_count": null,
   "id": "b56c8d13-06cc-4665-9dc4-bf47c28de5a0",
   "metadata": {},
   "outputs": [],
   "source": [
    "fmzk_verkehr1 = cached_geopandas_read_file(FMZK_VERKEHR1_WFS_URL)\n",
    "parkplaetze = fmzk_verkehr1[fmzk_verkehr1.LAYER == \"Ruhender Verkehr\"]\n",
    "parkplaetze.crs = \"EPSG:31256\"\n",
    "del fmzk_verkehr1\n",
    "\n",
    "parkplaetze"
   ]
  },
  {
   "cell_type": "code",
   "execution_count": null,
   "id": "a6971ce7-d13d-4e4d-b19b-132b20cf94d5",
   "metadata": {},
   "outputs": [],
   "source": [
    "fmzk_verkehr2 = cached_geopandas_read_file(FMZK_VERKEHR2_WFS_URL)\n",
    "gehsteige = fmzk_verkehr2[fmzk_verkehr2.LAYER == \"Gehsteig\"]\n",
    "gehsteige.crs = \"EPSG:31256\"\n",
    "del fmzk_verkehr2\n",
    "\n",
    "gehsteige"
   ]
  },
  {
   "cell_type": "code",
   "execution_count": null,
   "id": "1a2705c9-cd86-43c2-85fa-59769aad4934",
   "metadata": {},
   "outputs": [],
   "source": [
    "uebersichtskarte = gehsteige.explore(\n",
    "    style_kwds={\n",
    "        \"fillColor\": GEHSTEIGE_FILL_COLOUR,\n",
    "        \"fillOpacity\": 0.9,\n",
    "        \"color\": GEHSTEIGE_STROKE_COLOUR,\n",
    "        \"weight\": 0.1,\n",
    "    },\n",
    "    \n",
    "    map_kwds={\n",
    "        \"center\": {\"lat\": 48.2515, \"lng\": 16.4549}\n",
    "    },\n",
    "    zoom_start=18,\n",
    "    tiles=ORTHOFOTO_TILE_URL,\n",
    "    attr=\"Datenquelle: Stadt Wien – data.wien.gv.at\",\n",
    ")\n",
    "uebersichtskarte = parkplaetze.explore(\n",
    "    m=uebersichtskarte,\n",
    "    style_kwds={\n",
    "        \"fillColor\": PARKPLAETZE_FILL_COLOUR,\n",
    "        \"fillOpacity\": 0.9,\n",
    "        \"color\": PARKPLAETZE_STROKE_COLOUR,\n",
    "        \"weight\": 0.1,\n",
    "    },\n",
    ")\n",
    "uebersichtskarte"
   ]
  }
 ],
 "metadata": {
  "kernelspec": {
   "display_name": "Python 3 (ipykernel)",
   "language": "python",
   "name": "python3"
  },
  "language_info": {
   "codemirror_mode": {
    "name": "ipython",
    "version": 3
   },
   "file_extension": ".py",
   "mimetype": "text/x-python",
   "name": "python",
   "nbconvert_exporter": "python",
   "pygments_lexer": "ipython3",
   "version": "3.13.0"
  }
 },
 "nbformat": 4,
 "nbformat_minor": 5
}
